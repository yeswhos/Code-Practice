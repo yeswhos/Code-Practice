{
  "nbformat": 4,
  "nbformat_minor": 0,
  "metadata": {
    "colab": {
      "name": "dict_practice.ipynb",
      "provenance": [],
      "toc_visible": true,
      "authorship_tag": "ABX9TyOsSiqXK4cR4vchLzq3gSz4",
      "include_colab_link": true
    },
    "kernelspec": {
      "name": "python3",
      "display_name": "Python 3"
    }
  },
  "cells": [
    {
      "cell_type": "markdown",
      "metadata": {
        "id": "view-in-github",
        "colab_type": "text"
      },
      "source": [
        "<a href=\"https://colab.research.google.com/github/yeswhos/Code-Practice/blob/master/python/Day04/dict_practice.ipynb\" target=\"_parent\"><img src=\"https://colab.research.google.com/assets/colab-badge.svg\" alt=\"Open In Colab\"/></a>"
      ]
    },
    {
      "cell_type": "markdown",
      "metadata": {
        "id": "Kk2cc9ru3dKZ",
        "colab_type": "text"
      },
      "source": [
        "Fanhui Meng\n",
        "\n",
        "04.09.2020"
      ]
    },
    {
      "cell_type": "markdown",
      "metadata": {
        "id": "1U2IqHIq4KSe",
        "colab_type": "text"
      },
      "source": [
        "# 索引"
      ]
    },
    {
      "cell_type": "code",
      "metadata": {
        "id": "rLxf-bz83iXF",
        "colab_type": "code",
        "outputId": "bab71e7d-ccc2-4b16-985a-f01cf54d07a6",
        "colab": {
          "base_uri": "https://localhost:8080/",
          "height": 34
        }
      },
      "source": [
        "list1 = ['F', 'C', 'h', 'i', 's']\n",
        "list2 = [70, 67, 104, 105, 115]\n",
        "print(list2[list1.index('C')])"
      ],
      "execution_count": 0,
      "outputs": [
        {
          "output_type": "stream",
          "text": [
            "67\n"
          ],
          "name": "stdout"
        }
      ]
    },
    {
      "cell_type": "markdown",
      "metadata": {
        "id": "nrdEBmN_3949",
        "colab_type": "text"
      },
      "source": [
        "# 字典"
      ]
    },
    {
      "cell_type": "markdown",
      "metadata": {
        "id": "Oa6w1MsM4Ajh",
        "colab_type": "text"
      },
      "source": [
        "格式1"
      ]
    },
    {
      "cell_type": "code",
      "metadata": {
        "id": "R2IxEMC44COr",
        "colab_type": "code",
        "outputId": "01276fda-c02f-406b-82fd-44028bdaff43",
        "colab": {
          "base_uri": "https://localhost:8080/",
          "height": 34
        }
      },
      "source": [
        "dict1 = {'F': 70, 'C': 67, 'h': 104, 'i': 105, 's': 115}\n",
        "print(dict1['C'])"
      ],
      "execution_count": 0,
      "outputs": [
        {
          "output_type": "stream",
          "text": [
            "67\n"
          ],
          "name": "stdout"
        }
      ]
    },
    {
      "cell_type": "markdown",
      "metadata": {
        "id": "et-o8wGE5IOK",
        "colab_type": "text"
      },
      "source": [
        "格式2"
      ]
    },
    {
      "cell_type": "code",
      "metadata": {
        "id": "4C4hzTRS5J_n",
        "colab_type": "code",
        "outputId": "09b2489c-1fd6-44db-87b0-2a54253f12bb",
        "colab": {
          "base_uri": "https://localhost:8080/",
          "height": 34
        }
      },
      "source": [
        "dict2 = ((('F', 70), ('C', 67), ('h', 104), ('i', 105), ('s', 115)))\n",
        "dict2[0]\n",
        "dict2"
      ],
      "execution_count": 0,
      "outputs": [
        {
          "output_type": "execute_result",
          "data": {
            "text/plain": [
              "(('F', 70), ('C', 67), ('h', 104), ('i', 105), ('s', 115))"
            ]
          },
          "metadata": {
            "tags": []
          },
          "execution_count": 7
        }
      ]
    },
    {
      "cell_type": "markdown",
      "metadata": {
        "id": "_M2hxVKC5oyy",
        "colab_type": "text"
      },
      "source": [
        "格式3"
      ]
    },
    {
      "cell_type": "code",
      "metadata": {
        "id": "ein9SLPC5p2O",
        "colab_type": "code",
        "outputId": "794fb40c-6723-4546-c002-33e3c91ea779",
        "colab": {
          "base_uri": "https://localhost:8080/",
          "height": 34
        }
      },
      "source": [
        "#dict3 = dict('F' = 70, 'C' = 67, 'h' = 104, 'i' = 105, 's' = 115)\n",
        "dict3 = dict(F = 'F', C = 'C')\n",
        "dict3\n",
        "#创建\n",
        "dict3['h'] = 'h'\n",
        "dict3"
      ],
      "execution_count": 0,
      "outputs": [
        {
          "output_type": "execute_result",
          "data": {
            "text/plain": [
              "{'C': 'C', 'F': 'F', 'h': 'h'}"
            ]
          },
          "metadata": {
            "tags": []
          },
          "execution_count": 11
        }
      ]
    },
    {
      "cell_type": "markdown",
      "metadata": {
        "id": "PCQSDbFGWMR4",
        "colab_type": "text"
      },
      "source": [
        "# 字典的一些方法"
      ]
    },
    {
      "cell_type": "markdown",
      "metadata": {
        "id": "RMgL1XkUWPJx",
        "colab_type": "text"
      },
      "source": [
        "创建一个字典"
      ]
    },
    {
      "cell_type": "code",
      "metadata": {
        "id": "u4YynekSWUCD",
        "colab_type": "code",
        "colab": {
          "base_uri": "https://localhost:8080/",
          "height": 34
        },
        "outputId": "711fe379-f760-4008-ff46-40f5eb778220"
      },
      "source": [
        "dict1 = dict.fromkeys((1, 2, 3), 'C')\n",
        "dict1"
      ],
      "execution_count": 6,
      "outputs": [
        {
          "output_type": "execute_result",
          "data": {
            "text/plain": [
              "{1: 'C', 2: 'C', 3: 'C'}"
            ]
          },
          "metadata": {
            "tags": []
          },
          "execution_count": 6
        }
      ]
    },
    {
      "cell_type": "markdown",
      "metadata": {
        "id": "kPCacpzQXYLZ",
        "colab_type": "text"
      },
      "source": [
        "遍历"
      ]
    },
    {
      "cell_type": "code",
      "metadata": {
        "id": "Ke63_IovXaFf",
        "colab_type": "code",
        "colab": {
          "base_uri": "https://localhost:8080/",
          "height": 68
        },
        "outputId": "edef2ae6-a597-4f45-b1de-8906c723c3ba"
      },
      "source": [
        "for eachkey in dict1.keys():\n",
        "  print(eachkey)"
      ],
      "execution_count": 8,
      "outputs": [
        {
          "output_type": "stream",
          "text": [
            "1\n",
            "2\n",
            "3\n"
          ],
          "name": "stdout"
        }
      ]
    },
    {
      "cell_type": "code",
      "metadata": {
        "id": "zDM7zc-QXucU",
        "colab_type": "code",
        "colab": {
          "base_uri": "https://localhost:8080/",
          "height": 68
        },
        "outputId": "35cbc7ba-bc1c-46cf-8ff6-ef788ec9d130"
      },
      "source": [
        "for eachkey in dict1.values():\n",
        "  print(eachkey)"
      ],
      "execution_count": 9,
      "outputs": [
        {
          "output_type": "stream",
          "text": [
            "C\n",
            "C\n",
            "C\n"
          ],
          "name": "stdout"
        }
      ]
    },
    {
      "cell_type": "code",
      "metadata": {
        "id": "-oEofgI8X1q1",
        "colab_type": "code",
        "colab": {
          "base_uri": "https://localhost:8080/",
          "height": 68
        },
        "outputId": "92b7c0c6-510a-4bf2-f495-832f60cbf4ba"
      },
      "source": [
        "for eachkey in dict1.items():\n",
        "  print(eachkey)"
      ],
      "execution_count": 10,
      "outputs": [
        {
          "output_type": "stream",
          "text": [
            "(1, 'C')\n",
            "(2, 'C')\n",
            "(3, 'C')\n"
          ],
          "name": "stdout"
        }
      ]
    },
    {
      "cell_type": "code",
      "metadata": {
        "id": "ARQHN9CNYZdo",
        "colab_type": "code",
        "colab": {
          "base_uri": "https://localhost:8080/",
          "height": 34
        },
        "outputId": "ca8d3eb1-43f0-4f8c-f2bf-9523ea877c51"
      },
      "source": [
        "dict1.get(2)\n",
        "#print(dict1[1])"
      ],
      "execution_count": 16,
      "outputs": [
        {
          "output_type": "execute_result",
          "data": {
            "text/plain": [
              "'C'"
            ]
          },
          "metadata": {
            "tags": []
          },
          "execution_count": 16
        }
      ]
    },
    {
      "cell_type": "markdown",
      "metadata": {
        "id": "lOpQ-KKqYoQL",
        "colab_type": "text"
      },
      "source": [
        "判断"
      ]
    },
    {
      "cell_type": "code",
      "metadata": {
        "id": "jUm9Lj2GYr27",
        "colab_type": "code",
        "colab": {
          "base_uri": "https://localhost:8080/",
          "height": 51
        },
        "outputId": "2ecb98dc-8a48-4912-a965-077d8cc7c545"
      },
      "source": [
        "if 2 in dict1:\n",
        "  print(\"here\")\n",
        "\n",
        "if 45 not in dict1:\n",
        "  print(\"not here\")"
      ],
      "execution_count": 20,
      "outputs": [
        {
          "output_type": "stream",
          "text": [
            "here\n",
            "not here\n"
          ],
          "name": "stdout"
        }
      ]
    },
    {
      "cell_type": "markdown",
      "metadata": {
        "id": "d32D5tdLZ3iq",
        "colab_type": "text"
      },
      "source": [
        "添加"
      ]
    },
    {
      "cell_type": "code",
      "metadata": {
        "id": "YTPS1jx9Z2jk",
        "colab_type": "code",
        "colab": {
          "base_uri": "https://localhost:8080/",
          "height": 34
        },
        "outputId": "6f496a3c-abd5-4eb8-f5f3-e1505936f91e"
      },
      "source": [
        "dict2 = {1:'A', 2:'B'}\n",
        "dict1.update(dict2)\n",
        "dict1"
      ],
      "execution_count": 23,
      "outputs": [
        {
          "output_type": "execute_result",
          "data": {
            "text/plain": [
              "{1: 'A', 2: 'B', 3: 'C'}"
            ]
          },
          "metadata": {
            "tags": []
          },
          "execution_count": 23
        }
      ]
    },
    {
      "cell_type": "code",
      "metadata": {
        "id": "POalawZVaVHr",
        "colab_type": "code",
        "colab": {
          "base_uri": "https://localhost:8080/",
          "height": 34
        },
        "outputId": "efd25e08-e258-4c06-c0ce-48068fba76b5"
      },
      "source": [
        "#查找键值，如果没有，就创个none\n",
        "dict1.setdefault(4)\n",
        "dict1"
      ],
      "execution_count": 31,
      "outputs": [
        {
          "output_type": "execute_result",
          "data": {
            "text/plain": [
              "{1: 'A', 2: 'B', 3: 'C', 4: None, 'B': None}"
            ]
          },
          "metadata": {
            "tags": []
          },
          "execution_count": 31
        }
      ]
    }
  ]
}