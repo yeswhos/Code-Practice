{
  "nbformat": 4,
  "nbformat_minor": 0,
  "metadata": {
    "colab": {
      "name": "dict_practice.ipynb",
      "provenance": [],
      "toc_visible": true,
      "authorship_tag": "ABX9TyOKq88QSPzQ/UbAvpfyf6Zi",
      "include_colab_link": true
    },
    "kernelspec": {
      "name": "python3",
      "display_name": "Python 3"
    }
  },
  "cells": [
    {
      "cell_type": "markdown",
      "metadata": {
        "id": "view-in-github",
        "colab_type": "text"
      },
      "source": [
        "<a href=\"https://colab.research.google.com/github/yeswhos/Code-Practice/blob/master/python/Day04/dict_practice.ipynb\" target=\"_parent\"><img src=\"https://colab.research.google.com/assets/colab-badge.svg\" alt=\"Open In Colab\"/></a>"
      ]
    },
    {
      "cell_type": "markdown",
      "metadata": {
        "id": "Kk2cc9ru3dKZ",
        "colab_type": "text"
      },
      "source": [
        "Fanhui Meng\n",
        "\n",
        "04.09.2020"
      ]
    },
    {
      "cell_type": "markdown",
      "metadata": {
        "id": "1U2IqHIq4KSe",
        "colab_type": "text"
      },
      "source": [
        "# 索引"
      ]
    },
    {
      "cell_type": "code",
      "metadata": {
        "id": "rLxf-bz83iXF",
        "colab_type": "code",
        "colab": {
          "base_uri": "https://localhost:8080/",
          "height": 34
        },
        "outputId": "bab71e7d-ccc2-4b16-985a-f01cf54d07a6"
      },
      "source": [
        "list1 = ['F', 'C', 'h', 'i', 's']\n",
        "list2 = [70, 67, 104, 105, 115]\n",
        "print(list2[list1.index('C')])"
      ],
      "execution_count": 1,
      "outputs": [
        {
          "output_type": "stream",
          "text": [
            "67\n"
          ],
          "name": "stdout"
        }
      ]
    },
    {
      "cell_type": "markdown",
      "metadata": {
        "id": "nrdEBmN_3949",
        "colab_type": "text"
      },
      "source": [
        "# 字典"
      ]
    },
    {
      "cell_type": "markdown",
      "metadata": {
        "id": "Oa6w1MsM4Ajh",
        "colab_type": "text"
      },
      "source": [
        "格式1"
      ]
    },
    {
      "cell_type": "code",
      "metadata": {
        "id": "R2IxEMC44COr",
        "colab_type": "code",
        "colab": {
          "base_uri": "https://localhost:8080/",
          "height": 34
        },
        "outputId": "01276fda-c02f-406b-82fd-44028bdaff43"
      },
      "source": [
        "dict1 = {'F': 70, 'C': 67, 'h': 104, 'i': 105, 's': 115}\n",
        "print(dict1['C'])"
      ],
      "execution_count": 2,
      "outputs": [
        {
          "output_type": "stream",
          "text": [
            "67\n"
          ],
          "name": "stdout"
        }
      ]
    },
    {
      "cell_type": "markdown",
      "metadata": {
        "id": "et-o8wGE5IOK",
        "colab_type": "text"
      },
      "source": [
        "格式2"
      ]
    },
    {
      "cell_type": "code",
      "metadata": {
        "id": "4C4hzTRS5J_n",
        "colab_type": "code",
        "colab": {
          "base_uri": "https://localhost:8080/",
          "height": 34
        },
        "outputId": "09b2489c-1fd6-44db-87b0-2a54253f12bb"
      },
      "source": [
        "dict2 = ((('F', 70), ('C', 67), ('h', 104), ('i', 105), ('s', 115)))\n",
        "dict2[0]\n",
        "dict2"
      ],
      "execution_count": 7,
      "outputs": [
        {
          "output_type": "execute_result",
          "data": {
            "text/plain": [
              "(('F', 70), ('C', 67), ('h', 104), ('i', 105), ('s', 115))"
            ]
          },
          "metadata": {
            "tags": []
          },
          "execution_count": 7
        }
      ]
    },
    {
      "cell_type": "markdown",
      "metadata": {
        "id": "_M2hxVKC5oyy",
        "colab_type": "text"
      },
      "source": [
        "格式3"
      ]
    },
    {
      "cell_type": "code",
      "metadata": {
        "id": "ein9SLPC5p2O",
        "colab_type": "code",
        "colab": {
          "base_uri": "https://localhost:8080/",
          "height": 34
        },
        "outputId": "794fb40c-6723-4546-c002-33e3c91ea779"
      },
      "source": [
        "#dict3 = dict('F' = 70, 'C' = 67, 'h' = 104, 'i' = 105, 's' = 115)\n",
        "dict3 = dict(F = 'F', C = 'C')\n",
        "dict3\n",
        "#创建\n",
        "dict3['h'] = 'h'\n",
        "dict3"
      ],
      "execution_count": 11,
      "outputs": [
        {
          "output_type": "execute_result",
          "data": {
            "text/plain": [
              "{'C': 'C', 'F': 'F', 'h': 'h'}"
            ]
          },
          "metadata": {
            "tags": []
          },
          "execution_count": 11
        }
      ]
    }
  ]
}