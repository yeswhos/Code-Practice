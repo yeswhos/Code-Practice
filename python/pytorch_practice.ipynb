{
  "nbformat": 4,
  "nbformat_minor": 0,
  "metadata": {
    "colab": {
      "name": "pytorch_practice.ipynb",
      "provenance": [],
      "authorship_tag": "ABX9TyNzUOlXqasSNsj4p3BcLN3R",
      "include_colab_link": true
    },
    "kernelspec": {
      "name": "python3",
      "display_name": "Python 3"
    }
  },
  "cells": [
    {
      "cell_type": "markdown",
      "metadata": {
        "id": "view-in-github",
        "colab_type": "text"
      },
      "source": [
        "<a href=\"https://colab.research.google.com/github/yeswhos/Code-Practice/blob/master/python/pytorch_practice.ipynb\" target=\"_parent\"><img src=\"https://colab.research.google.com/assets/colab-badge.svg\" alt=\"Open In Colab\"/></a>"
      ]
    },
    {
      "cell_type": "code",
      "metadata": {
        "id": "T-izdXlfTifZ",
        "colab_type": "code",
        "colab": {}
      },
      "source": [
        "import torch\n",
        "import torch.nn as nn\n",
        "import torch.nn.functional as F\n",
        "import numpy as np\n",
        "\n",
        "torch.manual_seed(446)\n",
        "np.random.seed(446)"
      ],
      "execution_count": 2,
      "outputs": []
    },
    {
      "cell_type": "markdown",
      "metadata": {
        "id": "sG0Ipf-xW3tA",
        "colab_type": "text"
      },
      "source": [
        "和numpy的关系"
      ]
    },
    {
      "cell_type": "code",
      "metadata": {
        "id": "YIJjwg2JWeU-",
        "colab_type": "code",
        "colab": {
          "base_uri": "https://localhost:8080/",
          "height": 68
        },
        "outputId": "917ce939-07af-48e1-b878-8f7804e0e072"
      },
      "source": [
        "#tensor和np相似的数组\n",
        "x_numpy = np.array([0.1, 0.2, 0.3])\n",
        "x_torch = torch.tensor([0.1, 0.2, 0.3])\n",
        "print('x_numpy, x_torch')\n",
        "print(x_numpy, x_torch)\n",
        "print()"
      ],
      "execution_count": 3,
      "outputs": [
        {
          "output_type": "stream",
          "text": [
            "x_numpy, x_torch\n",
            "[0.1 0.2 0.3] tensor([0.1000, 0.2000, 0.3000])\n",
            "\n"
          ],
          "name": "stdout"
        }
      ]
    },
    {
      "cell_type": "code",
      "metadata": {
        "id": "0jZe-PhjYVzI",
        "colab_type": "code",
        "colab": {
          "base_uri": "https://localhost:8080/",
          "height": 51
        },
        "outputId": "04c78308-5835-4a15-e24f-49bc5764dee2"
      },
      "source": [
        "#np和tensor转换\n",
        "tensor_a = torch.from_numpy(x_numpy)\n",
        "print(tensor_a)\n",
        "torch_a = x_torch.numpy()\n",
        "print(torch_a)"
      ],
      "execution_count": 5,
      "outputs": [
        {
          "output_type": "stream",
          "text": [
            "tensor([0.1000, 0.2000, 0.3000], dtype=torch.float64)\n",
            "[0.1 0.2 0.3]\n"
          ],
          "name": "stdout"
        }
      ]
    },
    {
      "cell_type": "code",
      "metadata": {
        "id": "OoAuOloCY8vd",
        "colab_type": "code",
        "colab": {
          "base_uri": "https://localhost:8080/",
          "height": 51
        },
        "outputId": "a5db3570-bc00-46ae-aa78-27f70571ebe5"
      },
      "source": [
        "#基本运算，相加\n",
        "y_numpy = np.array([3, 4, 5.])\n",
        "y_torch = torch.tensor([3, 4, 5.])\n",
        "print(x_numpy + y_numpy, \"numpy\")\n",
        "print(x_torch + y_torch)"
      ],
      "execution_count": 11,
      "outputs": [
        {
          "output_type": "stream",
          "text": [
            "[3.1 4.2 5.3] numpy\n",
            "tensor([3.1000, 4.2000, 5.3000])\n"
          ],
          "name": "stdout"
        }
      ]
    },
    {
      "cell_type": "code",
      "metadata": {
        "id": "8jxszOZCaEn_",
        "colab_type": "code",
        "colab": {
          "base_uri": "https://localhost:8080/",
          "height": 51
        },
        "outputId": "6d6740e9-5c8e-4c2d-bfb4-8ff638061fa7"
      },
      "source": [
        "#两种归一化操作（还真不是归一化），（我也没搞明白归一化具体是怎么算的）\n",
        "#算就是三个数分别平方，然后加起来，然后开根号，其实就是算距离，然后也叫范数\n",
        "numpy_b = np.linalg.norm(x_numpy)\n",
        "print(numpy_b)\n",
        "torch_b = torch.norm(x_torch)\n",
        "print(torch_b)"
      ],
      "execution_count": 13,
      "outputs": [
        {
          "output_type": "stream",
          "text": [
            "0.37416573867739417\n",
            "tensor(0.3742)\n"
          ],
          "name": "stdout"
        }
      ]
    },
    {
      "cell_type": "code",
      "metadata": {
        "id": "_6-bMRi-lvX9",
        "colab_type": "code",
        "colab": {
          "base_uri": "https://localhost:8080/",
          "height": 51
        },
        "outputId": "358e116e-72bb-4834-d1e8-94fea663886a"
      },
      "source": [
        "x_numpy = np.array([[1, 2], [3, 4.]])\n",
        "x_torch = torch.tensor([[1, 2], [3, 4.]])\n",
        "print(np.mean(x_numpy, axis = 0))\n",
        "print(torch.mean(x_torch, dim = 0))"
      ],
      "execution_count": 15,
      "outputs": [
        {
          "output_type": "stream",
          "text": [
            "[2. 3.]\n",
            "tensor([2., 3.])\n"
          ],
          "name": "stdout"
        }
      ]
    }
  ]
}