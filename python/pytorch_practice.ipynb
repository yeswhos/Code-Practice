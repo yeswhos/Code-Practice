{
  "nbformat": 4,
  "nbformat_minor": 0,
  "metadata": {
    "colab": {
      "name": "pytorch_practice.ipynb",
      "provenance": [],
      "authorship_tag": "ABX9TyN9HiGElrK6K/TGNlTdqB4Q",
      "include_colab_link": true
    },
    "kernelspec": {
      "name": "python3",
      "display_name": "Python 3"
    }
  },
  "cells": [
    {
      "cell_type": "markdown",
      "metadata": {
        "id": "view-in-github",
        "colab_type": "text"
      },
      "source": [
        "<a href=\"https://colab.research.google.com/github/yeswhos/Code-Practice/blob/master/python/pytorch_practice.ipynb\" target=\"_parent\"><img src=\"https://colab.research.google.com/assets/colab-badge.svg\" alt=\"Open In Colab\"/></a>"
      ]
    },
    {
      "cell_type": "code",
      "metadata": {
        "id": "T-izdXlfTifZ",
        "colab_type": "code",
        "colab": {}
      },
      "source": [
        "import torch\n",
        "import torch.nn as nn\n",
        "import torch.nn.functional as F\n",
        "import numpy as np\n",
        "\n",
        "torch.manual_seed(446)\n",
        "np.random.seed(446)"
      ],
      "execution_count": 2,
      "outputs": []
    },
    {
      "cell_type": "markdown",
      "metadata": {
        "id": "sG0Ipf-xW3tA",
        "colab_type": "text"
      },
      "source": [
        "和numpy的关系"
      ]
    },
    {
      "cell_type": "code",
      "metadata": {
        "id": "YIJjwg2JWeU-",
        "colab_type": "code",
        "colab": {
          "base_uri": "https://localhost:8080/",
          "height": 68
        },
        "outputId": "917ce939-07af-48e1-b878-8f7804e0e072"
      },
      "source": [
        "#tensor和np相似的数组\n",
        "x_numpy = np.array([0.1, 0.2, 0.3])\n",
        "x_torch = torch.tensor([0.1, 0.2, 0.3])\n",
        "print('x_numpy, x_torch')\n",
        "print(x_numpy, x_torch)\n",
        "print()"
      ],
      "execution_count": null,
      "outputs": [
        {
          "output_type": "stream",
          "text": [
            "x_numpy, x_torch\n",
            "[0.1 0.2 0.3] tensor([0.1000, 0.2000, 0.3000])\n",
            "\n"
          ],
          "name": "stdout"
        }
      ]
    },
    {
      "cell_type": "code",
      "metadata": {
        "id": "0jZe-PhjYVzI",
        "colab_type": "code",
        "colab": {
          "base_uri": "https://localhost:8080/",
          "height": 51
        },
        "outputId": "04c78308-5835-4a15-e24f-49bc5764dee2"
      },
      "source": [
        "#np和tensor转换\n",
        "tensor_a = torch.from_numpy(x_numpy)\n",
        "print(tensor_a)\n",
        "torch_a = x_torch.numpy()\n",
        "print(torch_a)"
      ],
      "execution_count": null,
      "outputs": [
        {
          "output_type": "stream",
          "text": [
            "tensor([0.1000, 0.2000, 0.3000], dtype=torch.float64)\n",
            "[0.1 0.2 0.3]\n"
          ],
          "name": "stdout"
        }
      ]
    },
    {
      "cell_type": "code",
      "metadata": {
        "id": "OoAuOloCY8vd",
        "colab_type": "code",
        "colab": {
          "base_uri": "https://localhost:8080/",
          "height": 51
        },
        "outputId": "a5db3570-bc00-46ae-aa78-27f70571ebe5"
      },
      "source": [
        "#基本运算，相加\n",
        "y_numpy = np.array([3, 4, 5.])\n",
        "y_torch = torch.tensor([3, 4, 5.])\n",
        "print(x_numpy + y_numpy, \"numpy\")\n",
        "print(x_torch + y_torch)"
      ],
      "execution_count": null,
      "outputs": [
        {
          "output_type": "stream",
          "text": [
            "[3.1 4.2 5.3] numpy\n",
            "tensor([3.1000, 4.2000, 5.3000])\n"
          ],
          "name": "stdout"
        }
      ]
    },
    {
      "cell_type": "code",
      "metadata": {
        "id": "8jxszOZCaEn_",
        "colab_type": "code",
        "colab": {
          "base_uri": "https://localhost:8080/",
          "height": 51
        },
        "outputId": "6d6740e9-5c8e-4c2d-bfb4-8ff638061fa7"
      },
      "source": [
        "#两种归一化操作（还真不是归一化），（我也没搞明白归一化具体是怎么算的）\n",
        "#算就是三个数分别平方，然后加起来，然后开根号，其实就是算距离，然后也叫范数\n",
        "numpy_b = np.linalg.norm(x_numpy)\n",
        "print(numpy_b)\n",
        "torch_b = torch.norm(x_torch)\n",
        "print(torch_b)"
      ],
      "execution_count": null,
      "outputs": [
        {
          "output_type": "stream",
          "text": [
            "0.37416573867739417\n",
            "tensor(0.3742)\n"
          ],
          "name": "stdout"
        }
      ]
    },
    {
      "cell_type": "code",
      "metadata": {
        "id": "_6-bMRi-lvX9",
        "colab_type": "code",
        "colab": {
          "base_uri": "https://localhost:8080/",
          "height": 51
        },
        "outputId": "358e116e-72bb-4834-d1e8-94fea663886a"
      },
      "source": [
        "x_numpy = np.array([[1, 2], [3, 4.]])\n",
        "x_torch = torch.tensor([[1, 2], [3, 4.]])\n",
        "print(np.mean(x_numpy, axis = 0))\n",
        "print(torch.mean(x_torch, dim = 0))"
      ],
      "execution_count": null,
      "outputs": [
        {
          "output_type": "stream",
          "text": [
            "[2. 3.]\n",
            "tensor([2., 3.])\n"
          ],
          "name": "stdout"
        }
      ]
    },
    {
      "cell_type": "markdown",
      "metadata": {
        "id": "l_n5CylQoLpB",
        "colab_type": "text"
      },
      "source": [
        "# What is Pytorch"
      ]
    },
    {
      "cell_type": "code",
      "metadata": {
        "id": "g6TgHsXnoK8o",
        "colab_type": "code",
        "colab": {
          "base_uri": "https://localhost:8080/",
          "height": 102
        },
        "outputId": "71b1c8b7-3f7d-4b4d-eda1-c5e76d3d259d"
      },
      "source": [
        "#空的5X3矩阵\n",
        "x = torch.empty(5, 3)\n",
        "print(x)"
      ],
      "execution_count": 4,
      "outputs": [
        {
          "output_type": "stream",
          "text": [
            "tensor([[2.8861e-35, 0.0000e+00, 5.0447e-44],\n",
            "        [0.0000e+00,        nan, 0.0000e+00],\n",
            "        [1.3788e-14, 1.8369e+28, 1.9433e-19],\n",
            "        [3.3738e-12, 7.4086e+28, 6.9397e+22],\n",
            "        [1.7260e+25, 2.2856e+20, 5.0948e-14]])\n"
          ],
          "name": "stdout"
        }
      ]
    },
    {
      "cell_type": "code",
      "metadata": {
        "id": "dqwl2V8Xoh25",
        "colab_type": "code",
        "colab": {
          "base_uri": "https://localhost:8080/",
          "height": 102
        },
        "outputId": "636402ba-aea9-45a5-85b0-ca986cf68ffa"
      },
      "source": [
        "#有随机数的5X3矩阵 tensor\n",
        "x = torch.rand(5, 3)\n",
        "print(x)"
      ],
      "execution_count": 5,
      "outputs": [
        {
          "output_type": "stream",
          "text": [
            "tensor([[0.2010, 0.5419, 0.0024],\n",
            "        [0.3200, 0.1604, 0.6338],\n",
            "        [0.5056, 0.5847, 0.8565],\n",
            "        [0.0176, 0.4135, 0.1011],\n",
            "        [0.5402, 0.3133, 0.7141]])\n"
          ],
          "name": "stdout"
        }
      ]
    },
    {
      "cell_type": "code",
      "metadata": {
        "id": "yAunoHIYp6qE",
        "colab_type": "code",
        "colab": {
          "base_uri": "https://localhost:8080/",
          "height": 102
        },
        "outputId": "1b5217f0-023f-4bf0-a818-ee1531722efa"
      },
      "source": [
        "#0 tensor，可以指定数据类型\n",
        "x = torch.zeros(5, 3, dtype=torch.long)\n",
        "print(x)"
      ],
      "execution_count": 6,
      "outputs": [
        {
          "output_type": "stream",
          "text": [
            "tensor([[0, 0, 0],\n",
            "        [0, 0, 0],\n",
            "        [0, 0, 0],\n",
            "        [0, 0, 0],\n",
            "        [0, 0, 0]])\n"
          ],
          "name": "stdout"
        }
      ]
    },
    {
      "cell_type": "code",
      "metadata": {
        "id": "YmM8Vu-GqLnr",
        "colab_type": "code",
        "colab": {
          "base_uri": "https://localhost:8080/",
          "height": 51
        },
        "outputId": "ad9243e9-d713-4aa0-fc5f-937a719575ae"
      },
      "source": [
        "#创建一个1X1的有内容的tensor\n",
        "#float类型的,建议用\n",
        "x = torch.Tensor([5.5, 3])\n",
        "print(x)\n",
        "#整型的\n",
        "y = torch.tensor([4, 3])\n",
        "print(y)"
      ],
      "execution_count": 7,
      "outputs": [
        {
          "output_type": "stream",
          "text": [
            "tensor([5.5000, 3.0000])\n",
            "tensor([4, 3])\n"
          ],
          "name": "stdout"
        }
      ]
    },
    {
      "cell_type": "code",
      "metadata": {
        "id": "EKm3izDtssJA",
        "colab_type": "code",
        "colab": {
          "base_uri": "https://localhost:8080/",
          "height": 186
        },
        "outputId": "34c70ced-b0fb-4972-ba93-dbce84330d94"
      },
      "source": [
        "x = x.new_ones(5, 3, dtype=torch.double)\n",
        "print(x)\n",
        "\n",
        "y = torch.randn_like(x, dtype=torch.float)\n",
        "print(y)"
      ],
      "execution_count": 16,
      "outputs": [
        {
          "output_type": "stream",
          "text": [
            "tensor([[1., 1., 1.],\n",
            "        [1., 1., 1.],\n",
            "        [1., 1., 1.],\n",
            "        [1., 1., 1.],\n",
            "        [1., 1., 1.]], dtype=torch.float64)\n",
            "tensor([[ 1.1258, -0.2059,  0.2778],\n",
            "        [ 0.9311,  0.5823,  0.5380],\n",
            "        [-2.4568,  0.7386, -0.2399],\n",
            "        [-0.5507, -0.3311,  2.8829],\n",
            "        [-0.4208, -2.7663,  0.1455]])\n"
          ],
          "name": "stdout"
        }
      ]
    },
    {
      "cell_type": "code",
      "metadata": {
        "id": "9usPCwc2s-lK",
        "colab_type": "code",
        "colab": {
          "base_uri": "https://localhost:8080/",
          "height": 51
        },
        "outputId": "7ed1c42d-9457-49d0-f6fa-71b7b699cb16"
      },
      "source": [
        "print(x.size())\n",
        "print(y.shape)"
      ],
      "execution_count": 10,
      "outputs": [
        {
          "output_type": "stream",
          "text": [
            "torch.Size([5, 3])\n",
            "torch.Size([5, 3])\n"
          ],
          "name": "stdout"
        }
      ]
    },
    {
      "cell_type": "code",
      "metadata": {
        "id": "e2UOeFH6tng0",
        "colab_type": "code",
        "colab": {
          "base_uri": "https://localhost:8080/",
          "height": 119
        },
        "outputId": "cc8b8e50-ec59-4961-f049-1a3e9303ad24"
      },
      "source": [
        "#相加操作\n",
        "result = torch.empty(5, 3)\n",
        "torch.add(x, y, out = result)\n",
        "print(result)\n",
        "print(result[:, 2])"
      ],
      "execution_count": 17,
      "outputs": [
        {
          "output_type": "stream",
          "text": [
            "tensor([[ 2.1258,  0.7941,  1.2778],\n",
            "        [ 1.9311,  1.5823,  1.5380],\n",
            "        [-1.4568,  1.7386,  0.7601],\n",
            "        [ 0.4493,  0.6689,  3.8829],\n",
            "        [ 0.5792, -1.7663,  1.1455]])\n",
            "tensor([1.2778, 1.5380, 0.7601, 3.8829, 1.1455])\n"
          ],
          "name": "stdout"
        }
      ]
    },
    {
      "cell_type": "code",
      "metadata": {
        "id": "8J8W21M3u0LF",
        "colab_type": "code",
        "colab": {
          "base_uri": "https://localhost:8080/",
          "height": 102
        },
        "outputId": "5f45a103-46d7-459f-cf3d-9631ce6466ad"
      },
      "source": [
        "#这样才永久改变值\n",
        "x.add_(y)\n",
        "print(x)"
      ],
      "execution_count": 19,
      "outputs": [
        {
          "output_type": "stream",
          "text": [
            "tensor([[ 2.1258,  0.7941,  1.2778],\n",
            "        [ 1.9311,  1.5823,  1.5380],\n",
            "        [-1.4568,  1.7386,  0.7601],\n",
            "        [ 0.4493,  0.6689,  3.8829],\n",
            "        [ 0.5792, -1.7663,  1.1455]], dtype=torch.float64)\n"
          ],
          "name": "stdout"
        }
      ]
    },
    {
      "cell_type": "code",
      "metadata": {
        "id": "IEUGYuq-uFwD",
        "colab_type": "code",
        "colab": {
          "base_uri": "https://localhost:8080/",
          "height": 85
        },
        "outputId": "bab1f65a-f093-49d0-d8ab-471e9546d9bd"
      },
      "source": [
        "#改变格式\n",
        "x = torch.randn(4, 4)\n",
        "y = x.view(16)\n",
        "z = x.view(-1, 8)\n",
        "print(y)\n",
        "print(z)"
      ],
      "execution_count": 22,
      "outputs": [
        {
          "output_type": "stream",
          "text": [
            "tensor([ 0.8465,  0.6114,  0.1462,  0.3910, -2.9358, -2.0018, -0.6972,  0.6025,\n",
            "        -0.0061,  0.7409, -0.3454,  0.2720,  0.4914, -0.8378,  0.4136, -0.9239])\n",
            "tensor([[ 0.8465,  0.6114,  0.1462,  0.3910, -2.9358, -2.0018, -0.6972,  0.6025],\n",
            "        [-0.0061,  0.7409, -0.3454,  0.2720,  0.4914, -0.8378,  0.4136, -0.9239]])\n"
          ],
          "name": "stdout"
        }
      ]
    },
    {
      "cell_type": "code",
      "metadata": {
        "id": "9N5AppaxvPLN",
        "colab_type": "code",
        "colab": {}
      },
      "source": [
        "#CUDA Tensor\n",
        "if torch.cuda.is_available():\n",
        "  device = torch.device(\"cuda\")\n",
        "  y = torch.ones_like(x, device = device)\n",
        "  x = x.to(Device)\n",
        "  z = x + y\n",
        "  print(x)\n",
        "  print(x.to(\"cpu\", torch.double))"
      ],
      "execution_count": 23,
      "outputs": []
    }
  ]
}