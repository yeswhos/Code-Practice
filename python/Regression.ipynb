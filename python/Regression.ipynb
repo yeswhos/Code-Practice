{
  "nbformat": 4,
  "nbformat_minor": 0,
  "metadata": {
    "colab": {
      "name": "Regression.ipynb",
      "provenance": [],
      "authorship_tag": "ABX9TyPXcChjfqBHhn7wGxqb044n",
      "include_colab_link": true
    },
    "kernelspec": {
      "name": "python3",
      "display_name": "Python 3"
    }
  },
  "cells": [
    {
      "cell_type": "markdown",
      "metadata": {
        "id": "view-in-github",
        "colab_type": "text"
      },
      "source": [
        "<a href=\"https://colab.research.google.com/github/yeswhos/Code-Practice/blob/master/python/Regression.ipynb\" target=\"_parent\"><img src=\"https://colab.research.google.com/assets/colab-badge.svg\" alt=\"Open In Colab\"/></a>"
      ]
    },
    {
      "cell_type": "code",
      "metadata": {
        "id": "vHl207EM3haJ",
        "colab_type": "code",
        "colab": {}
      },
      "source": [
        "import torch\n",
        "from torch.autograd import Variable\n",
        "import matplotlib.pyplot as plt\n",
        "import torch.nn.functional as F"
      ],
      "execution_count": 23,
      "outputs": []
    },
    {
      "cell_type": "code",
      "metadata": {
        "id": "GT7JHL0r7fLE",
        "colab_type": "code",
        "colab": {}
      },
      "source": [
        "x = torch.unsqueeze(torch.linspace(-1, 1, 100), dim = 1)\n",
        "y = x.pow(2) + 0.2 * torch.rand(x.size())\n",
        "x, y = Variable(x), Variable(y)"
      ],
      "execution_count": 24,
      "outputs": []
    },
    {
      "cell_type": "code",
      "metadata": {
        "id": "IjfN8cH18IE7",
        "colab_type": "code",
        "colab": {
          "base_uri": "https://localhost:8080/",
          "height": 265
        },
        "outputId": "5d12fcf3-78b7-4e3a-ad11-1a73a6c73743"
      },
      "source": [
        "plt.scatter(x.data.numpy(), y.data.numpy())\n",
        "plt.show()"
      ],
      "execution_count": 25,
      "outputs": [
        {
          "output_type": "display_data",
          "data": {
            "image/png": "[encoded data removed]",
            "text/plain": [
              "<Figure size 432x288 with 1 Axes>"
            ]
          },
          "metadata": {
            "tags": [],
            "needs_background": "light"
          }
        }
      ]
    },
    {
      "cell_type": "code",
      "metadata": {
        "id": "uLPi-gYC8QnP",
        "colab_type": "code",
        "colab": {}
      },
      "source": [
        "class Net(torch.nn.Module):\n",
        "  def __init__(self, n_features, n_hidden, n_output):\n",
        "    super(Net, self).__init__()\n",
        "    #输入和输出在括号里\n",
        "    self.hidden = torch.nn.Linear(n_features, n_hidden)\n",
        "    self.predict = torch.nn.Linear(n_hidden, n_output)\n",
        "\n",
        "  def forward(self, x):\n",
        "    x = F.relu(self.hidden(x))\n",
        "    x = self.predict(x)\n",
        "    return x"
      ],
      "execution_count": 26,
      "outputs": []
    },
    {
      "cell_type": "code",
      "metadata": {
        "id": "rlB5U90d-h6V",
        "colab_type": "code",
        "colab": {
          "base_uri": "https://localhost:8080/",
          "height": 85
        },
        "outputId": "fef48be7-d970-4f30-846e-5749644bc193"
      },
      "source": [
        "net = Net(1, 10, 1)\n",
        "print(net)"
      ],
      "execution_count": 27,
      "outputs": [
        {
          "output_type": "stream",
          "text": [
            "Net(\n",
            "  (hidden): Linear(in_features=1, out_features=10, bias=True)\n",
            "  (predict): Linear(in_features=10, out_features=1, bias=True)\n",
            ")\n"
          ],
          "name": "stdout"
        }
      ]
    },
    {
      "cell_type": "code",
      "metadata": {
        "id": "lqZGs41cAGXt",
        "colab_type": "code",
        "colab": {}
      },
      "source": [
        "#可视化\n",
        "#实时打印\n",
        "plt.ion()\n",
        "plt.show()"
      ],
      "execution_count": 28,
      "outputs": []
    },
    {
      "cell_type": "code",
      "metadata": {
        "id": "BbQDRLyB-u3W",
        "colab_type": "code",
        "colab": {}
      },
      "source": [
        "#SGD随机梯度下降\n",
        "#lr梯度下降的速率\n",
        "optimizer = torch.optim.SGD(net.parameters(), lr = 0.5)\n",
        "#均方差，用于回归\n",
        "#用 真实值-预测值 然后平方之后求和平均。\n",
        "loss_func = torch.nn.MSELoss()"
      ],
      "execution_count": 29,
      "outputs": []
    },
    {
      "cell_type": "code",
      "metadata": {
        "id": "5RZVnfJE_gQj",
        "colab_type": "code",
        "colab": {
          "base_uri": "https://localhost:8080/",
          "height": 233
        },
        "outputId": "1f162cbd-1760-411d-d49a-f3f0d3b16d25"
      },
      "source": [
        "for t in range(100):\n",
        "  #预测值\n",
        "  prediction = net(x)\n",
        "  #预测值和真实的误差\n",
        "  loss = loss_func(prediction, y)\n",
        "  optimizer.zero_grad()\n",
        "  loss.backward()\n",
        "  optimizer.step()\n",
        "  print(loss.data[0])\n",
        "  if t % 5 == 0:\n",
        "    plt.cla()\n",
        "    plt.scatter(x.data.numpy(), y.data.numpy())\n",
        "    plt.plot(x.data.numpy(), prediction.data.numpy(), 'r-', lw = 5)\n",
        "    plt.text(0.5, 0, 'Loss = %.4f' % loss.data[0], fontdict={'size': 20, 'color': 'red'})\n",
        "    plt.pause(0.1)\n",
        "plt.ioff()\n",
        "plt.show()"
      ],
      "execution_count": 33,
      "outputs": [
        {
          "output_type": "error",
          "ename": "IndexError",
          "evalue": "ignored",
          "traceback": [
            "\u001b[0;31m---------------------------------------------------------------------------\u001b[0m",
            "\u001b[0;31mIndexError\u001b[0m                                Traceback (most recent call last)",
            "\u001b[0;32m<ipython-input-33-06f7daaa376d>\u001b[0m in \u001b[0;36m<module>\u001b[0;34m()\u001b[0m\n\u001b[1;32m      7\u001b[0m   \u001b[0mloss\u001b[0m\u001b[0;34m.\u001b[0m\u001b[0mbackward\u001b[0m\u001b[0;34m(\u001b[0m\u001b[0;34m)\u001b[0m\u001b[0;34m\u001b[0m\u001b[0;34m\u001b[0m\u001b[0m\n\u001b[1;32m      8\u001b[0m   \u001b[0moptimizer\u001b[0m\u001b[0;34m.\u001b[0m\u001b[0mstep\u001b[0m\u001b[0;34m(\u001b[0m\u001b[0;34m)\u001b[0m\u001b[0;34m\u001b[0m\u001b[0;34m\u001b[0m\u001b[0m\n\u001b[0;32m----> 9\u001b[0;31m   \u001b[0mprint\u001b[0m\u001b[0;34m(\u001b[0m\u001b[0mloss\u001b[0m\u001b[0;34m.\u001b[0m\u001b[0mdata\u001b[0m\u001b[0;34m[\u001b[0m\u001b[0;36m0\u001b[0m\u001b[0;34m]\u001b[0m\u001b[0;34m)\u001b[0m\u001b[0;34m\u001b[0m\u001b[0;34m\u001b[0m\u001b[0m\n\u001b[0m\u001b[1;32m     10\u001b[0m \u001b[0;31m#   if t % 5 == 0:\u001b[0m\u001b[0;34m\u001b[0m\u001b[0;34m\u001b[0m\u001b[0;34m\u001b[0m\u001b[0m\n\u001b[1;32m     11\u001b[0m \u001b[0;31m#     plt.cla()\u001b[0m\u001b[0;34m\u001b[0m\u001b[0;34m\u001b[0m\u001b[0;34m\u001b[0m\u001b[0m\n",
            "\u001b[0;31mIndexError\u001b[0m: invalid index of a 0-dim tensor. Use `tensor.item()` in Python or `tensor.item<T>()` in C++ to convert a 0-dim tensor to a number"
          ]
        }
      ]
    },
    {
      "cell_type": "code",
      "metadata": {
        "id": "eCO87DovAO6M",
        "colab_type": "code",
        "colab": {}
      },
      "source": [
        ""
      ],
      "execution_count": null,
      "outputs": []
    }
  ]
}