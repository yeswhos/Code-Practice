{
  "nbformat": 4,
  "nbformat_minor": 0,
  "metadata": {
    "colab": {
      "name": "Foxcoon_contest.ipynb",
      "provenance": [],
      "collapsed_sections": [],
      "authorship_tag": "ABX9TyNWVuKHoj6e7K0E6ty7mU2a",
      "include_colab_link": true
    },
    "kernelspec": {
      "name": "python3",
      "display_name": "Python 3"
    },
    "language_info": {
      "name": "python"
    }
  },
  "cells": [
    {
      "cell_type": "markdown",
      "metadata": {
        "id": "view-in-github",
        "colab_type": "text"
      },
      "source": [
        "<a href=\"https://colab.research.google.com/github/yeswhos/Code-Practice/blob/master/Foxcoon_contest.ipynb\" target=\"_parent\"><img src=\"https://colab.research.google.com/assets/colab-badge.svg\" alt=\"Open In Colab\"/></a>"
      ]
    },
    {
      "cell_type": "code",
      "metadata": {
        "id": "2FLOECI5hqHe"
      },
      "source": [
        "import random"
      ],
      "execution_count": 2,
      "outputs": []
    },
    {
      "cell_type": "code",
      "metadata": {
        "id": "2O8x3_l2mtdt"
      },
      "source": [
        "datas = [1.08, 1.075, 0.99, 0.96, 1.03, 0.95, 0.99, 1.104, 1.112, 1.078, \n",
        "         0.977, 0.989, 1.15, 0.96, 0.927, 1.057, 1.069, 0.978, 0.964, 1.17,\n",
        "         1.057, 0.987, 1.118, 0.96, 1.103, 1.11, 0.95, 0.99, 0.963, 0.979]"
      ],
      "execution_count": 3,
      "outputs": []
    },
    {
      "cell_type": "code",
      "metadata": {
        "colab": {
          "base_uri": "https://localhost:8080/"
        },
        "id": "BDCevt7Cmtfq",
        "outputId": "4bcc81e7-cc57-4c50-8890-ba0cde631fbf"
      },
      "source": [
        "# 平均值\n",
        "x_mean = np.mean(x)\n",
        "x_avg = sum(x) / len(x)\n",
        "# 方差\n",
        "x_var = np.var(x)\n",
        "# 标准差\n",
        "x_std = np.std(x)"
      ],
      "execution_count": 4,
      "outputs": [
        {
          "output_type": "execute_result",
          "data": {
            "text/plain": [
              "30"
            ]
          },
          "metadata": {},
          "execution_count": 4
        }
      ]
    },
    {
      "cell_type": "code",
      "metadata": {
        "id": "Xu1OJJ3WyHmp"
      },
      "source": [
        "UCL = x_mean + 3*x_std\n",
        "LCL = x_mean - 3*x_std\n",
        "USL = 1.3\n",
        "LSL = 0.7"
      ],
      "execution_count": null,
      "outputs": []
    },
    {
      "cell_type": "code",
      "metadata": {
        "id": "ioB_bSCryHo0"
      },
      "source": [
        "def calculate_peak(x):\n",
        "  USL = 1.3\n",
        "  LSL = 0.7\n",
        "  x_mean = np.mean(x)\n",
        "  x_std = np.std(x)\n",
        "  cpu = (USL - x_mean) / (3 * x_std)\n",
        "  cpl = (x_mean - LSL) / (3 * x_std)\n",
        "  cpk = min(cpu, cpl)\n",
        "  return cpk"
      ],
      "execution_count": null,
      "outputs": []
    },
    {
      "cell_type": "code",
      "metadata": {
        "id": "BFtGw6wVyHrD"
      },
      "source": [
        "def cpkEvaluate(cpk_num):\n",
        "  return '特级' if cpk_num >= 2 else '一级' if (cpk_num >= 1.67 and cpk_num <= 2) else '二级' if (cpk_num >= 1.33 and cpk_num < 1.67) # 待补充"
      ],
      "execution_count": null,
      "outputs": []
    },
    {
      "cell_type": "code",
      "metadata": {
        "id": "FRgarFLEyHtH"
      },
      "source": [
        "def above_line(num):\n",
        "  return False if (num > USL and num < LSL) else True"
      ],
      "execution_count": null,
      "outputs": []
    },
    {
      "cell_type": "code",
      "metadata": {
        "id": "Osg9WH44yHu1"
      },
      "source": [
        "def judge_same_side(*args):\n",
        "  if len(args) >= 9:\n",
        "    func = lambda i : True if i < 1 else False\n",
        "    queue = [func(x) for x in args[-9:]]\n",
        "    return len(set(queue)) == 1\n",
        "  else:\n",
        "    raise Exception('Less than nine')"
      ],
      "execution_count": null,
      "outputs": []
    },
    {
      "cell_type": "code",
      "metadata": {
        "id": "KUG59qYWyHw1"
      },
      "source": [
        "def trend(*args):\n",
        "  if len(args) >= 6:\n",
        "    climb_trend = sorted(args[-6:][:], reverse=True)\n",
        "    decend_trend = sorted(args[-6:][:], reverse=True)\n",
        "    return list(args[-6:]) == climb_trend or list(args[-6:]) == decend_trend\n",
        "  else:\n",
        "    raise Exception('Less than six')"
      ],
      "execution_count": null,
      "outputs": []
    },
    {
      "cell_type": "code",
      "metadata": {
        "id": "UvP5kLe71fIx"
      },
      "source": [
        "def cross_appear(*args):\n",
        "  if len(args) >= 14:\n",
        "    flag = False if args[0] < args[1] else True\n",
        "    a = args[::2]\n",
        "    b = args[1::2]\n",
        "    for i in range(7):\n",
        "      if a[i] > b[i] and flag == False:\n",
        "        return False\n",
        "      elif a[i] < b[i] and flag == True:\n",
        "        return False\n",
        "    return True\n",
        "  else:\n",
        "    raise Exception('Less than forteen')"
      ],
      "execution_count": null,
      "outputs": []
    },
    {
      "cell_type": "code",
      "metadata": {
        "id": "iTgTvvfD1fLF"
      },
      "source": [
        "ran_data = random.uniform(USL, LSL)"
      ],
      "execution_count": null,
      "outputs": []
    },
    {
      "cell_type": "code",
      "metadata": {
        "id": "h16BJAna1fN_"
      },
      "source": [
        ""
      ],
      "execution_count": null,
      "outputs": []
    },
    {
      "cell_type": "code",
      "metadata": {
        "id": "1zrIEzu_1fSU"
      },
      "source": [
        ""
      ],
      "execution_count": null,
      "outputs": []
    },
    {
      "cell_type": "code",
      "metadata": {
        "id": "NdOLkv6Q1fUk"
      },
      "source": [
        ""
      ],
      "execution_count": null,
      "outputs": []
    },
    {
      "cell_type": "code",
      "metadata": {
        "id": "awZGUrHx1fYC"
      },
      "source": [
        ""
      ],
      "execution_count": null,
      "outputs": []
    },
    {
      "cell_type": "code",
      "metadata": {
        "id": "gXaO5n291fa6"
      },
      "source": [
        ""
      ],
      "execution_count": null,
      "outputs": []
    }
  ]
}