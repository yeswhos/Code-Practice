{
 "cells": [
  {
   "cell_type": "code",
   "execution_count": 1,
   "metadata": {},
   "outputs": [
    {
     "name": "stdout",
     "output_type": "stream",
     "text": [
      "list1: [[1, 2], (30, 40), 100]\n",
      "list2: [[1, 2], (30, 40)]\n"
     ]
    }
   ],
   "source": [
    "#浅拷贝\n",
    "list1 = [[1, 2], (30, 40)]\n",
    "list2 = list(list1)\n",
    "#没变\n",
    "list1.append(100)\n",
    "print(\"list1:\",list1)\n",
    "print(\"list2:\",list2)\n"
   ]
  },
  {
   "cell_type": "code",
   "execution_count": 2,
   "metadata": {},
   "outputs": [
    {
     "name": "stdout",
     "output_type": "stream",
     "text": [
      "list1: [[1, 2, 3], (30, 40), 100]\n",
      "list2: [[1, 2, 3], (30, 40)]\n"
     ]
    }
   ],
   "source": [
    "#变了\n",
    "list1[0].append(3)\n",
    "print(\"list1:\",list1)\n",
    "print(\"list2:\",list2)\n"
   ]
  },
  {
   "cell_type": "code",
   "execution_count": 3,
   "metadata": {},
   "outputs": [
    {
     "name": "stdout",
     "output_type": "stream",
     "text": [
      "list1: [[1, 2, 3], (30, 40, 50, 60), 100]\n",
      "list2: [[1, 2, 3], (30, 40)]\n"
     ]
    }
   ],
   "source": [
    "#没变\n",
    "list1[1] += (50, 60)\n",
    "print(\"list1:\",list1)\n",
    "print(\"list2:\",list2)"
   ]
  },
  {
   "cell_type": "code",
   "execution_count": null,
   "metadata": {},
   "outputs": [],
   "source": []
  }
 ],
 "metadata": {
  "kernelspec": {
   "display_name": "Python 3",
   "language": "python",
   "name": "python3"
  },
  "language_info": {
   "codemirror_mode": {
    "name": "ipython",
    "version": 3
   },
   "file_extension": ".py",
   "mimetype": "text/x-python",
   "name": "python",
   "nbconvert_exporter": "python",
   "pygments_lexer": "ipython3",
   "version": "3.8.3"
  }
 },
 "nbformat": 4,
 "nbformat_minor": 4
}
