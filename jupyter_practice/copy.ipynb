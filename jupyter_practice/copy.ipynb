{
 "cells": [
  {
   "cell_type": "code",
   "execution_count": 8,
   "metadata": {},
   "outputs": [
    {
     "name": "stdout",
     "output_type": "stream",
     "text": [
      "['ak', 'akc', 'akcb', 'akcbd']\n"
     ]
    }
   ],
   "source": [
    "a = \"akcbdd\"\n",
    "cur = 0\n",
    "res = []\n",
    "tmp = []\n",
    "left = 0\n",
    "right = left + 1\n",
    "n = len(a)\n",
    "while left <= right and right < n - 1:\n",
    "    while a[left] < a[right] and right < n - 1:\n",
    "        res.append(a[left: right + 1])\n",
    "        right += 1\n",
    "    if a[right] <= a[left]:\n",
    "        left = right\n",
    "        right += 1\n",
    "print(res)\n"
   ]
  },
  {
   "cell_type": "code",
   "execution_count": 14,
   "metadata": {},
   "outputs": [
    {
     "name": "stdout",
     "output_type": "stream",
     "text": [
      "[['a', 'k'], ['a', 'b', 'd']]\n"
     ]
    }
   ],
   "source": [
    "a = \"akabdd\"\n",
    "cur = 0\n",
    "res = []\n",
    "tmp = []\n",
    "for i in range(0, len(a)):\n",
    "    if not tmp or a[i] > tmp[-1]:\n",
    "        tmp.append(a[i])\n",
    "    else:\n",
    "        res.append(tmp[:])\n",
    "        # if a[i] < tmp[0]:\n",
    "        #     tmp.clear()\n",
    "        #     tmp.append(a[i])\n",
    "        #\n",
    "        # elif a[i] < tmp[-1]\n",
    "        tmp.clear()\n",
    "        tmp.append(a[i])\n",
    "#         for item in tmp:\n",
    "#             if a[i] <= item:\n",
    "#                 tmp.remove(item)\n",
    "#         tmp.append(a[i])\n",
    "print(res)"
   ]
  },
  {
   "cell_type": "code",
   "execution_count": 3,
   "metadata": {},
   "outputs": [
    {
     "name": "stdout",
     "output_type": "stream",
     "text": [
      "[['a', 'k'], ['k', 'a'], ['a', 'b'], ['a', 'b', 'd']]\n"
     ]
    }
   ],
   "source": [
    "print(res)"
   ]
  },
  {
   "cell_type": "code",
   "execution_count": null,
   "metadata": {},
   "outputs": [],
   "source": [
    "n = 0\n",
    "for item in res:\n",
    "    if len(item) > n:\n",
    "        n = len(item)\n",
    "        fin = item\n",
    "print(fin)"
   ]
  }
 ],
 "metadata": {
  "kernelspec": {
   "display_name": "Python 3",
   "language": "python",
   "name": "python3"
  },
  "language_info": {
   "codemirror_mode": {
    "name": "ipython",
    "version": 3
   },
   "file_extension": ".py",
   "mimetype": "text/x-python",
   "name": "python",
   "nbconvert_exporter": "python",
   "pygments_lexer": "ipython3",
   "version": "3.8.3"
  }
 },
 "nbformat": 4,
 "nbformat_minor": 4
}
